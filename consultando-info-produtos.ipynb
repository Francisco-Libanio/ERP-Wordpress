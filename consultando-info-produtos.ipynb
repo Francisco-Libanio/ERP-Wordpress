{
 "cells": [
  {
   "cell_type": "code",
   "execution_count": null,
   "id": "6ea84b35",
   "metadata": {},
   "outputs": [],
   "source": [
    "import pandas as pd\n",
    "from woocommerce import API"
   ]
  },
  {
   "cell_type": "code",
   "execution_count": null,
   "id": "17c2a8d6",
   "metadata": {},
   "outputs": [],
   "source": [
    "\n",
    "wcapi = API(\n",
    "    url=\"SITE\",\n",
    "    consumer_key=\"c_key\",\n",
    "    consumer_secret=\"c_secret\",\n",
    "    version=\"wc/v3\",\n",
    "    timeout=30\n",
    ")\n",
    "\n",
    "# Consultar todos os produtos em estoque em todas as páginas\n",
    "page = 1\n",
    "per_page = 100  \n",
    "\n",
    "all_products = []\n",
    "\n",
    "while True:\n",
    "    # Consultar produtos na página atual\n",
    "    response = wcapi.get(\"products\", params={\"page\": page, \"per_page\": per_page, \"stock_status\": \"instock\"})\n",
    "    products_on_page = response.json()\n",
    "\n",
    "    # Adicionar produtos à lista geral\n",
    "    all_products.extend(products_on_page)\n",
    "\n",
    "    # Verificar se há mais páginas\n",
    "    if len(products_on_page) < per_page:\n",
    "        break\n",
    "    else:\n",
    "        page += 1\n",
    "\n",
    "\n",
    "print(f\"Total de produtos em estoque: {len(all_products)}\")\n",
    "\n",
    "# Processar os dados conforme necessário\n",
    "produtos = []\n",
    "for i, item in enumerate(all_products):\n",
    "    sku = all_products[i]['sku']    \n",
    "    \n",
    "    if all_products[i]['stock_quantity'] is not None:\n",
    "        estoque = int(all_products[i]['stock_quantity'])\n",
    "    if all_products[i]['price']: \n",
    "        preco = float(all_products[i]['price'])\n",
    "    nome = all_products[i]['name']       \n",
    "    loja = 'Loja modelo'\n",
    "    \n",
    "    total = preco * estoque\n",
    "    \n",
    "    dados_do_produto =(sku, estoque, preco, nome, total, loja)\n",
    "    produtos.append(dados_do_produto)\n",
    "\n",
    "# Crie o DataFrame com a ordem desejada das colunas\n",
    "df_estoque_site = pd.DataFrame(produtos, columns=['Código do produto', 'Estoque', 'Preço', 'Nome', 'Total', 'Loja'])\n",
    "\n",
    "# Exiba o DataFrame\n",
    "display(df_estoque_site)"
   ]
  }
 ],
 "metadata": {
  "kernelspec": {
   "display_name": "Python 3 (ipykernel)",
   "language": "python",
   "name": "python3"
  },
  "language_info": {
   "codemirror_mode": {
    "name": "ipython",
    "version": 3
   },
   "file_extension": ".py",
   "mimetype": "text/x-python",
   "name": "python",
   "nbconvert_exporter": "python",
   "pygments_lexer": "ipython3",
   "version": "3.9.18"
  }
 },
 "nbformat": 4,
 "nbformat_minor": 5
}
